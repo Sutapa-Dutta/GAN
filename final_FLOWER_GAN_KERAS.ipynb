{
  "nbformat": 4,
  "nbformat_minor": 0,
  "metadata": {
    "colab": {
      "name": "final_FLOWER_GAN_KERAS.ipynb",
      "provenance": [],
      "collapsed_sections": [],
      "mount_file_id": "1IjR55d8vZYQx3p1F74XTR_-HggB7S-Q_",
      "authorship_tag": "ABX9TyPO1WZJb4vy35LbhjONmvd3"
    },
    "kernelspec": {
      "name": "python3",
      "display_name": "Python 3"
    },
    "accelerator": "TPU"
  },
  "cells": [
    {
      "cell_type": "code",
      "metadata": {
        "id": "yBozTBk95xxi",
        "colab_type": "code",
        "colab": {
          "base_uri": "https://localhost:8080/",
          "height": 80
        },
        "outputId": "b2f34446-fd5f-4711-ce39-281b21547c58"
      },
      "source": [
        "import keras\n",
        "import numpy as np\n",
        "from keras.layers import Dense, Dropout, Input,Conv2D,Conv2DTranspose,BatchNormalization,Flatten,Reshape\n",
        "from keras.models import Model,Sequential\n",
        "from keras.datasets import mnist\n",
        "from tqdm import tqdm\n",
        "from keras.layers.advanced_activations import LeakyReLU\n",
        "from keras.optimizers import Adam\n",
        "\n",
        "from keras.models import Sequential\n",
        "from keras.layers import Dense\n",
        "from keras.utils.vis_utils import plot_model\n",
        "import matplotlib.pyplot as plt"
      ],
      "execution_count": null,
      "outputs": [
        {
          "output_type": "stream",
          "text": [
            "Using TensorFlow backend.\n"
          ],
          "name": "stderr"
        },
        {
          "output_type": "display_data",
          "data": {
            "text/html": [
              "<p style=\"color: red;\">\n",
              "The default version of TensorFlow in Colab will soon switch to TensorFlow 2.x.<br>\n",
              "We recommend you <a href=\"https://www.tensorflow.org/guide/migrate\" target=\"_blank\">upgrade</a> now \n",
              "or ensure your notebook will continue to use TensorFlow 1.x via the <code>%tensorflow_version 1.x</code> magic:\n",
              "<a href=\"https://colab.research.google.com/notebooks/tensorflow_version.ipynb\" target=\"_blank\">more info</a>.</p>\n"
            ],
            "text/plain": [
              "<IPython.core.display.HTML object>"
            ]
          },
          "metadata": {
            "tags": []
          }
        }
      ]
    },
    {
      "cell_type": "code",
      "metadata": {
        "id": "VdLS7Gtg5JAA",
        "colab_type": "code",
        "colab": {
          "base_uri": "https://localhost:8080/",
          "height": 1000
        },
        "outputId": "20334c7b-40cf-4654-87d1-74469063475d"
      },
      "source": [
        "# define the discriminator model\n",
        "\n",
        "# define the standalone discriminator model\n",
        "def define_discriminator(in_shape=(32,32,3)):\n",
        "\n",
        "    model = Sequential()\n",
        "    #normal\n",
        "    model.add(Conv2D(64, (3,3), padding='same', input_shape=in_shape))\n",
        "    model.add(LeakyReLU(alpha=0.2))\n",
        "    #model.add(BatchNormalization())\n",
        "\n",
        "    # downsample to 16x16\n",
        "    model.add(Conv2D(128, (3,3), strides=(2, 2),padding='same'))\n",
        "    model.add(LeakyReLU(alpha=0.2))\n",
        "    #model.add(BatchNormalization())\n",
        "    # downsample to 8x8\n",
        "    model.add(Conv2D(128, (3,3), strides=(2, 2), padding='same'))\n",
        "    model.add(LeakyReLU(alpha=0.2))\n",
        "    #model.add(BatchNormalization())\n",
        "    # downsample to 4x4\n",
        "    model.add(Conv2D(256, (3,3), strides=(2, 2), padding='same'))\n",
        "    model.add(LeakyReLU(alpha=0.2))\n",
        "    # classify\n",
        "    model.add(Flatten())\n",
        "    model.add(Dropout(0.4))\n",
        "    model.add(Dense(1, activation='sigmoid'))\n",
        "    opt=Adam(lr=0.0001,beta_1=0.5)\n",
        "    model.compile(loss='binary_crossentropy', optimizer=opt, metrics=['accuracy'])\n",
        "\n",
        "    return model\n",
        "\n",
        "# define the discriminator model\n",
        "x = define_discriminator()\n",
        "# summarize the model\n",
        "x.summary()\n",
        "# plot the model\n",
        "\n",
        "plot_model(x, to_file='discriminator_plot.png', show_shapes=True, show_layer_names=True)"
      ],
      "execution_count": null,
      "outputs": [
        {
          "output_type": "stream",
          "text": [
            "WARNING:tensorflow:From /usr/local/lib/python3.6/dist-packages/keras/backend/tensorflow_backend.py:66: The name tf.get_default_graph is deprecated. Please use tf.compat.v1.get_default_graph instead.\n",
            "\n",
            "WARNING:tensorflow:From /usr/local/lib/python3.6/dist-packages/keras/backend/tensorflow_backend.py:541: The name tf.placeholder is deprecated. Please use tf.compat.v1.placeholder instead.\n",
            "\n",
            "WARNING:tensorflow:From /usr/local/lib/python3.6/dist-packages/keras/backend/tensorflow_backend.py:4432: The name tf.random_uniform is deprecated. Please use tf.random.uniform instead.\n",
            "\n",
            "WARNING:tensorflow:From /usr/local/lib/python3.6/dist-packages/keras/backend/tensorflow_backend.py:148: The name tf.placeholder_with_default is deprecated. Please use tf.compat.v1.placeholder_with_default instead.\n",
            "\n",
            "WARNING:tensorflow:From /usr/local/lib/python3.6/dist-packages/keras/backend/tensorflow_backend.py:3733: calling dropout (from tensorflow.python.ops.nn_ops) with keep_prob is deprecated and will be removed in a future version.\n",
            "Instructions for updating:\n",
            "Please use `rate` instead of `keep_prob`. Rate should be set to `rate = 1 - keep_prob`.\n",
            "WARNING:tensorflow:From /usr/local/lib/python3.6/dist-packages/keras/optimizers.py:793: The name tf.train.Optimizer is deprecated. Please use tf.compat.v1.train.Optimizer instead.\n",
            "\n",
            "WARNING:tensorflow:From /usr/local/lib/python3.6/dist-packages/keras/backend/tensorflow_backend.py:3657: The name tf.log is deprecated. Please use tf.math.log instead.\n",
            "\n",
            "WARNING:tensorflow:From /usr/local/lib/python3.6/dist-packages/tensorflow_core/python/ops/nn_impl.py:183: where (from tensorflow.python.ops.array_ops) is deprecated and will be removed in a future version.\n",
            "Instructions for updating:\n",
            "Use tf.where in 2.0, which has the same broadcast rule as np.where\n",
            "Model: \"sequential_1\"\n",
            "_________________________________________________________________\n",
            "Layer (type)                 Output Shape              Param #   \n",
            "=================================================================\n",
            "conv2d_1 (Conv2D)            (None, 32, 32, 64)        1792      \n",
            "_________________________________________________________________\n",
            "leaky_re_lu_1 (LeakyReLU)    (None, 32, 32, 64)        0         \n",
            "_________________________________________________________________\n",
            "conv2d_2 (Conv2D)            (None, 16, 16, 128)       73856     \n",
            "_________________________________________________________________\n",
            "leaky_re_lu_2 (LeakyReLU)    (None, 16, 16, 128)       0         \n",
            "_________________________________________________________________\n",
            "conv2d_3 (Conv2D)            (None, 8, 8, 128)         147584    \n",
            "_________________________________________________________________\n",
            "leaky_re_lu_3 (LeakyReLU)    (None, 8, 8, 128)         0         \n",
            "_________________________________________________________________\n",
            "conv2d_4 (Conv2D)            (None, 4, 4, 256)         295168    \n",
            "_________________________________________________________________\n",
            "leaky_re_lu_4 (LeakyReLU)    (None, 4, 4, 256)         0         \n",
            "_________________________________________________________________\n",
            "flatten_1 (Flatten)          (None, 4096)              0         \n",
            "_________________________________________________________________\n",
            "dropout_1 (Dropout)          (None, 4096)              0         \n",
            "_________________________________________________________________\n",
            "dense_1 (Dense)              (None, 1)                 4097      \n",
            "=================================================================\n",
            "Total params: 522,497\n",
            "Trainable params: 522,497\n",
            "Non-trainable params: 0\n",
            "_________________________________________________________________\n"
          ],
          "name": "stdout"
        },
        {
          "output_type": "execute_result",
          "data": {
            "image/png": "[encoded data removed]",
            "text/plain": [
              "<IPython.core.display.Image object>"
            ]
          },
          "metadata": {
            "tags": []
          },
          "execution_count": 2
        }
      ]
    },
    {
      "cell_type": "code",
      "metadata": {
        "id": "XFn4sz7Z5JdV",
        "colab_type": "code",
        "colab": {}
      },
      "source": [
        "# define the generator model\n",
        "\n",
        "def define_generator(latent_dim):\n",
        "\n",
        "  model = Sequential()\n",
        "  # foundation for 7x7 image\n",
        "  n_nodes = 256 * 4 * 4\n",
        "  model.add(Dense(n_nodes, input_dim=latent_dim))\n",
        "  model.add(LeakyReLU(alpha=0.2))\n",
        "  #model.add(BatchNormalization())\n",
        "  model.add(Reshape((4, 4, 256)))\n",
        "  # upsample to 8X8\n",
        "  model.add(Conv2DTranspose(128, (4,4), strides=(2,2), padding='same'))\n",
        "  model.add(LeakyReLU(alpha=0.2))\n",
        "  #model.add(BatchNormalization())\n",
        "  # upsample to 16X16\n",
        "  model.add(Conv2DTranspose(128, (4,4), strides=(2,2), padding='same'))\n",
        "  model.add(LeakyReLU(alpha=0.2))\n",
        "  #model.add(BatchNormalization())\n",
        "  # upsample to 32X32\n",
        "  model.add(Conv2DTranspose(128, (4,4), strides=(2,2), padding='same'))\n",
        "  model.add(LeakyReLU(alpha=0.2))\n",
        "  #model.add(BatchNormalization())\n",
        "\n",
        "  model.add(Conv2D(3, (3,3), activation='tanh', padding='same'))\n",
        "  model.compile(loss='binary_crossentropy', optimizer='Adam')\n",
        "\n",
        "  return model\n",
        "# define the discriminator model\n",
        "#x = define_generator(100)\n",
        "# summarize the model\n",
        "#x.summary()\n",
        "# plot the model\n",
        "#plot_model(x, to_file='generator_plot.png', show_shapes=True, show_layer_names=True)  \n"
      ],
      "execution_count": null,
      "outputs": []
    },
    {
      "cell_type": "code",
      "metadata": {
        "id": "iCPB9DAv5Jic",
        "colab_type": "code",
        "colab": {}
      },
      "source": [
        "# create the composite model for training the generator\n",
        "# define the combined generator and discriminator model, for updating the generator\n",
        "def define_gan(generator, discriminator):\n",
        "\t# make weights in the discriminator not trainable\n",
        "\tdiscriminator.trainable = False\n",
        "\t# connect them\n",
        "\tmodel = Sequential()\n",
        "\t# add generator\n",
        "\tmodel.add(generator)\n",
        "\t# add the discriminator\n",
        "\tmodel.add(discriminator)\n",
        "\t# compile model\n",
        "\tmodel.compile(loss='binary_crossentropy', optimizer=Adam(lr=0.0002, beta_1=0.5))\n",
        "\treturn model\n",
        "\n",
        "# create the discriminator\n",
        "#discriminator = define_discriminator()\n",
        "# create the generator\n",
        "#generator = define_generator(100)\n",
        "# create the gan\n",
        "#gan_model = define_gan(generator, discriminator)\n",
        "# summarize gan model\n",
        "#gan_model.summary()\n",
        "# plot gan model\n",
        "#plot_model(gan_model, to_file='gan_plot.png', show_shapes=True, show_layer_names=True)"
      ],
      "execution_count": null,
      "outputs": []
    },
    {
      "cell_type": "code",
      "metadata": {
        "id": "XfbF3-2MKH7l",
        "colab_type": "code",
        "colab": {}
      },
      "source": [
        "import os\n",
        "import cv2\n",
        "import numpy as np\n",
        "import matplotlib.pyplot as plt\n",
        "from matplotlib import image\n",
        "from keras.preprocessing.image import img_to_array,array_to_img\n",
        "train_dir='/content/drive/My Drive/DATA/train/flower1'\n",
        "c=1\n",
        "img=[]\n",
        "for files in os.listdir(train_dir):\n",
        "        file_name=os.path.join(train_dir,files)\n",
        "        \n",
        "        print(file_name)\n",
        "        x=keras.preprocessing.image.load_img(\n",
        "    file_name,\n",
        "      grayscale=False,\n",
        "      color_mode='rgb',\n",
        "      target_size=(28,28),\n",
        "      interpolation='nearest'\n",
        "  )\n",
        "        img.append(keras.preprocessing.image.img_to_array(\n",
        "      x,\n",
        "      data_format=None,\n",
        "      dtype=None\n",
        "  ))    \n",
        "        #cv2.imwrite('DIRECTORY2',tf.keras.preprocessing.image.img_to_array(x))\n",
        "        c=c+1\n",
        "  #plt.imshow(img)\n",
        "print(type(x))\n",
        "print('count',c)\n",
        "X_train=np.array(img)\n",
        "print(X_train.shape)\n",
        "print(type(X_train))\n"
      ],
      "execution_count": null,
      "outputs": []
    },
    {
      "cell_type": "code",
      "metadata": {
        "id": "N66nIpdm0mas",
        "colab_type": "code",
        "colab": {}
      },
      "source": [
        "!pip install patool\n",
        "import patoolib\n",
        "patoolib.extract_archive(\"/content/drive/My Drive/GAN_pickle.rar\", outdir=\"/content/drive/My Drive\")\n"
      ],
      "execution_count": null,
      "outputs": []
    },
    {
      "cell_type": "code",
      "metadata": {
        "id": "YlsJD5c10Vfq",
        "colab_type": "code",
        "colab": {}
      },
      "source": [
        "import pickle\n",
        "with open('/content/drive/My Drive/MAMMO_pickle1.pkl', 'rb') as f:\n",
        "   train_data = pickle.load(f)\n"
      ],
      "execution_count": null,
      "outputs": []
    },
    {
      "cell_type": "code",
      "metadata": {
        "id": "pPDLkPM9KJhb",
        "colab_type": "code",
        "colab": {
          "base_uri": "https://localhost:8080/",
          "height": 34
        },
        "outputId": "9fea6ad1-a5ed-47b5-a836-249a290ee807"
      },
      "source": [
        "print(train_data.shape)"
      ],
      "execution_count": null,
      "outputs": [
        {
          "output_type": "stream",
          "text": [
            "(386, 256, 256, 3)\n"
          ],
          "name": "stdout"
        }
      ]
    },
    {
      "cell_type": "code",
      "metadata": {
        "id": "EsYYFUuzqHXO",
        "colab_type": "code",
        "colab": {}
      },
      "source": [
        "def load_real_samples():\n",
        "\t# convert from unsigned ints to floats\n",
        "\tX = train_data.astype('float32')\n",
        "\t# scale from [0,255] to [-1,1]\n",
        "\tX = (X - 127.5) / 127.5\n",
        "\treturn X"
      ],
      "execution_count": null,
      "outputs": []
    },
    {
      "cell_type": "code",
      "metadata": {
        "id": "a53DlAYqT7oJ",
        "colab_type": "code",
        "colab": {
          "base_uri": "https://localhost:8080/",
          "height": 884
        },
        "outputId": "b1408fdf-40d7-4bb3-cbc8-3b154daf45c3"
      },
      "source": [
        "m=load_real_samples()\n",
        "print(m.shape)\n",
        "print(type(m))\n",
        "print(m[0])\n"
      ],
      "execution_count": null,
      "outputs": [
        {
          "output_type": "stream",
          "text": [
            "(680, 32, 32, 3)\n",
            "<class 'numpy.ndarray'>\n",
            "[[[1.         0.81960785 1.        ]\n",
            "  [1.         0.8980392  1.        ]\n",
            "  [0.8901961  0.84313726 0.9529412 ]\n",
            "  ...\n",
            "  [0.77254903 0.8117647  0.84313726]\n",
            "  [0.7254902  0.8117647  0.827451  ]\n",
            "  [0.654902   0.78039217 0.78039217]]\n",
            "\n",
            " [[1.         0.84313726 1.        ]\n",
            "  [0.9529412  0.88235295 1.        ]\n",
            "  [0.8352941  0.7882353  0.8980392 ]\n",
            "  ...\n",
            "  [0.78039217 0.81960785 0.8509804 ]\n",
            "  [0.7411765  0.827451   0.84313726]\n",
            "  [0.6784314  0.7882353  0.79607844]]\n",
            "\n",
            " [[0.84313726 0.77254903 0.90588236]\n",
            "  [0.8352941  0.81960785 0.92941177]\n",
            "  [0.79607844 0.73333335 0.8509804 ]\n",
            "  ...\n",
            "  [0.7882353  0.8117647  0.8509804 ]\n",
            "  [0.7647059  0.827451   0.8509804 ]\n",
            "  [0.7176471  0.8039216  0.81960785]]\n",
            "\n",
            " ...\n",
            "\n",
            " [[0.02745098 0.1764706  0.3882353 ]\n",
            "  [0.14509805 0.08235294 0.37254903]\n",
            "  [0.5686275  0.23921569 0.6156863 ]\n",
            "  ...\n",
            "  [0.73333335 0.6862745  0.7647059 ]\n",
            "  [0.67058825 0.7019608  0.77254903]\n",
            "  [0.654902   0.7411765  0.7882353 ]]\n",
            "\n",
            " [[0.67058825 0.9137255  1.        ]\n",
            "  [0.5764706  0.5686275  0.81960785]\n",
            "  [0.7411765  0.4509804  0.7882353 ]\n",
            "  ...\n",
            "  [0.75686276 0.69411767 0.78039217]\n",
            "  [0.6862745  0.70980394 0.78039217]\n",
            "  [0.67058825 0.75686276 0.8039216 ]]\n",
            "\n",
            " [[0.60784316 0.8666667  1.        ]\n",
            "  [0.7254902  0.73333335 0.96862745]\n",
            "  [0.6392157  0.3647059  0.69411767]\n",
            "  ...\n",
            "  [0.7882353  0.7254902  0.8117647 ]\n",
            "  [0.7411765  0.7647059  0.8352941 ]\n",
            "  [0.73333335 0.8039216  0.85882354]]]\n"
          ],
          "name": "stdout"
        }
      ]
    },
    {
      "cell_type": "code",
      "metadata": {
        "id": "-9Uh48BBqsMS",
        "colab_type": "code",
        "colab": {}
      },
      "source": [
        "def select_real_samples(dataset,n_samples):\n",
        "  X =dataset[np.random.randint(low=0,high=dataset.shape[0],size=n_samples)]\n",
        "  #a=np.random.uniform(9,10,n_samples)\n",
        "  #y=a.reshape(n_samples,1)\n",
        "  y=np.zeros(n_samples)  \n",
        "  y[0:n_samples]=0.9\n",
        "  #y = np.ones((n_samples, 1))\n",
        "  return X,y\n"
      ],
      "execution_count": null,
      "outputs": []
    },
    {
      "cell_type": "code",
      "metadata": {
        "id": "XitHVKUZzHRd",
        "colab_type": "code",
        "colab": {}
      },
      "source": [
        "# generate points in latent space as input for the generator\n",
        "def generate_latent_points(latent_dim, n_samples):\n",
        "\t\t\tnoise=(np.random.randn(latent_dim*n_samples))\n",
        "\t\t\t#noise=np.random.normal(0,1,(n_samples,latent_dim))\n",
        "\t\t\tnoise=noise.reshape(n_samples,latent_dim)\n",
        "\t\t\treturn noise\n",
        "\t# generate points in the latent space"
      ],
      "execution_count": null,
      "outputs": []
    },
    {
      "cell_type": "code",
      "metadata": {
        "id": "xdaUWskUvwSi",
        "colab_type": "code",
        "colab": {}
      },
      "source": [
        "p=abs(np.random.randn(10*100))\n",
        "p=p.reshape(10,100)\n",
        "print(p.shape)\n",
        "print(p[0])"
      ],
      "execution_count": null,
      "outputs": []
    },
    {
      "cell_type": "code",
      "metadata": {
        "id": "zX1S2doezVt7",
        "colab_type": "code",
        "colab": {}
      },
      "source": [
        "# use the generator to generate n fake examples, with class labels\n",
        "def generate_fake_samples(generator, latent_dim, n_samples):\n",
        "\t# generate points in latent space\n",
        "\tnoise = generate_latent_points(latent_dim, n_samples)\n",
        "\t# predict outputs\n",
        "\tX = generator.predict(noise)\n",
        "\t# create class labels\n",
        "\t#a=np.random.uniform(0,1,n_samples)\n",
        "\t#y = a.reshape((n_samples, 1))\n",
        "\ty=np.zeros(n_samples)\n",
        "\ty[0:n_samples]=0.1\n",
        "\treturn X, y"
      ],
      "execution_count": null,
      "outputs": []
    },
    {
      "cell_type": "code",
      "metadata": {
        "id": "GNwiM6iNpj_S",
        "colab_type": "code",
        "colab": {
          "base_uri": "https://localhost:8080/",
          "height": 119
        },
        "outputId": "852ac9bb-1775-4965-ffe5-6424caa5b330"
      },
      "source": [
        "import numpy as np\n",
        "b=a.reshape(5,1)\n",
        "print(a)\n",
        "print(b)"
      ],
      "execution_count": null,
      "outputs": [
        {
          "output_type": "stream",
          "text": [
            "[9.03818031 9.06483052 9.17595929 9.94620409 9.65217825]\n",
            "[[9.03818031]\n",
            " [9.06483052]\n",
            " [9.17595929]\n",
            " [9.94620409]\n",
            " [9.65217825]]\n"
          ],
          "name": "stdout"
        }
      ]
    },
    {
      "cell_type": "code",
      "metadata": {
        "id": "VorntrQ6-XVh",
        "colab_type": "code",
        "colab": {}
      },
      "source": [
        "# create and save a plot of generated images\n",
        "def save_plot(examples, epoch, n=7):\n",
        "\t# scale from [-1,1] to [0,1]\n",
        "\t#examples = (examples + 1) / 2.0\n",
        "\texamples=examples.reshape(32,32,3)\n",
        "\t# plot images\n",
        "\tfor i in range(n * n):\n",
        "\t\t# define subplot\n",
        "\t\tplt.subplot(n, n, 1 + i)\n",
        "\t\t# turn off axis\n",
        "\t\tplt.axis('off')\n",
        "\t\t# plot raw pixel data\n",
        "\t\tplt.imshow((examples[i]*127.5+127.5).astype(np.uint32), interpolation='nearest')\n",
        "\t# save plot to file\n",
        "\tfilename = 'generated_plot_e%03d.png' % (epoch+1)\n",
        "\tplt.savefig(filename)\n",
        "\tplt.close()\n"
      ],
      "execution_count": null,
      "outputs": []
    },
    {
      "cell_type": "code",
      "metadata": {
        "id": "t7MhnEMbOKNc",
        "colab_type": "code",
        "colab": {}
      },
      "source": [
        "#CASE1\n",
        "# evaluate the discriminator and plot real and fake points\n",
        "latent_dim = 100\n",
        "n_epochs=50\n",
        "\n",
        "def summarize_performance(n_epoch, generator, discriminator,dataset,latent_dim, n=150):\n",
        "\t# prepare real samples\n",
        "  x_real, y_real = select_real_samples(dataset,n)\n",
        "\t# evaluate discriminator on real examples\n",
        "  _, acc_real = discriminator.evaluate(x_real, y_real, verbose=0)\n",
        "\t# prepare fake examples\n",
        "  x_fake, y_fake = generate_fake_samples(generator, latent_dim, n)\n",
        "\t# evaluate discriminator on fake examples\n",
        "  _, acc_fake = discriminator.evaluate(x_fake, y_fake, verbose=0)\n",
        "  # summarize discriminator performance\n",
        "  #print('EPOCH' % (n_epoch))\n",
        "  print('ACCURACY REAL:%.0f%% ACCURACY FAKE:%.0f%%' % (acc_real*100,acc_fake*100))\n",
        "  \n",
        "  save_plot(x_fake,n_epoch)\n",
        "  file_name='generator_model_%03d.h5' % (n_epoch+1)\n",
        "  #filename = 'generator_model_%03d.h5' % (epoch+1)\n",
        "  generator.save(file_name)\n",
        "  noise=np.random.normal(loc=0,scale=1,size=(100,100))\n",
        "  #noise= np.random.normal(loc=0, scale=1, size=[100, 100])\n",
        "  generated_images = generator.predict(noise)\n",
        "  generated_images = generated_images.reshape(100,32,32,3)\n",
        "  plt.figure(figsize=(10,10))\n",
        "  for i in range(generated_images.shape[0]):\n",
        "        plt.subplot(dim[0], dim[1], i+1)\n",
        "        plt.imshow(((generated_images[i]*127.5)+127.5).astype('np.uint16'))\n",
        "        plt.axis('off')\n",
        "  plt.tight_layout()\n",
        "  plt.savefig('predicted_gan_generated_image %d.png' %n_epoch)\n",
        "\n",
        "# create the discriminator\n",
        "discriminator = define_discriminator()\n",
        "dim=(10,10)\n",
        "# create the generator\n",
        "generator = define_generator(latent_dim)\n",
        " "
      ],
      "execution_count": null,
      "outputs": []
    },
    {
      "cell_type": "code",
      "metadata": {
        "id": "9mPRaA6Tjogn",
        "colab_type": "code",
        "colab": {}
      },
      "source": [
        "#CASE2\n",
        "# evaluate the discriminator and plot real and fake points\n",
        "latent_dim = 100\n",
        "n_epochs=60\n",
        "\n",
        "def summarize_performance(n_epoch, generator, discriminator,dataset,latent_dim, n=50):\n",
        "\t# prepare real samples\n",
        "  x_real, y_real = select_real_samples(dataset,n)\n",
        "\t# evaluate discriminator on real examples\n",
        "  _, acc_real = discriminator.evaluate(x_real, y_real, verbose=0)\n",
        "\t# prepare fake examples\n",
        "  x_fake, y_fake = generate_fake_samples(generator, latent_dim, n)\n",
        "\t# evaluate discriminator on fake examples\n",
        "  _, acc_fake = discriminator.evaluate(x_fake, y_fake, verbose=0)\n",
        "  # summarize discriminator performance\n",
        "  print('EPOCH' ,n_epoch)\n",
        "  print('ACCURACY REAL:%.0f%% ACCURACY FAKE:%.0f%%' % (acc_real*100,acc_fake*100))\n",
        "  \n",
        "  #save_plot(x_fake,n_epoch)\n",
        "  #file_name='generator_model_%03d.h5' % (n_epoch+1)\n",
        "  #filename = 'generator_model_%03d.h5' % (epoch+1)\n",
        "  #generator.save(file_name)\n",
        "  noise=np.random.normal(loc=0,scale=1,size=(50,100))\n",
        "  noise.reshape(50,100)\n",
        "  #noise= np.random.normal(loc=0, scale=1, size=[100, 100])\n",
        "  generated_images = generator.predict(noise)\n",
        "  print('Size',generated_images.shape)\n",
        "  #generated_images = generated_images.reshape(50,32,32,3)\n",
        "  plt.figure(figsize=(10,10))\n",
        "  for i in range(generated_images.shape[0]):\n",
        "        plt.subplot(dim[0], dim[1], i+1)\n",
        "        plt.imshow(((generated_images[i]*127.5)+127.5).astype('uint16'))\n",
        "        #plt.imshow(generated_images[i])\n",
        "        plt.axis('off')\n",
        "        plt.title('EPOCH')\n",
        "  plt.tight_layout()\n",
        "  plt.savefig('predicted_gan_generated_image %d.png' %n_epoch)\n",
        "\n",
        "# create the discriminator\n",
        "discriminator = define_discriminator()\n",
        "dim=(5,10)\n",
        "# create the generator\n",
        "generator = define_generator(latent_dim)\n",
        " "
      ],
      "execution_count": null,
      "outputs": []
    },
    {
      "cell_type": "code",
      "metadata": {
        "id": "XqNOuyRB5HrK",
        "colab_type": "code",
        "colab": {}
      },
      "source": [
        "# train the generator and discriminator\n",
        "#from numpy import vstack\n",
        "def train(generator, discriminator, gan_model,dataset, latent_dim, n_epochs=60, n_batch=32):\n",
        "  # gan training algorithm\n",
        "      tot_batch = int(dataset.shape[0]/n_batch)\n",
        "      #print(tot_batch)\n",
        "     \t# determine half the size of one batch, for updating the discriminator\n",
        "\n",
        "      half_batch = int(n_batch / 2)\n",
        "      #print(half_batch)\n",
        "      for i in range(n_epochs):\n",
        "        # enumerate batches over the training set\n",
        "        for j in range(tot_batch):\n",
        "          # get randomly selected 'real' samples\n",
        "          X_real, y_real = select_real_samples(dataset,half_batch)\n",
        "          d_loss1,_ = discriminator.train_on_batch(X_real, y_real)\n",
        "          print('loss1',d_loss1)\n",
        "          # generate 'fake' examples\n",
        "          X_fake, y_fake = generate_fake_samples(generator, latent_dim, half_batch)\n",
        "          d_loss2,_ = discriminator.train_on_batch(X_fake, y_fake)\n",
        "          print('loss2',d_loss2)\n",
        "          # create training set for the discriminator\n",
        "          #X, y = vstack((X_real, X_fake)), vstack((y_real, y_fake))\n",
        "          # update discriminator model weights\n",
        "          # prepare points in latent space as input for the generator\n",
        "          X_gan = generate_latent_points(latent_dim, n_batch)\n",
        "          # create inverted labels for the fake samples\n",
        "          #a=np.random.uniform(9,10,n_batch)\n",
        "          #y_gan=a.reshape(n_batch,1)\n",
        "          y_gan=np.zeros(n_batch)\n",
        "          y_gan[0:n_batch]=0.9\n",
        "          #y_gan = np.ones((n_batch, 1))\n",
        "          # update the generator via the discriminator's error\n",
        "          g_loss= gan_model.train_on_batch(X_gan, y_gan)\n",
        "          # summarize loss on this batch\n",
        "          #print('real_loss_perbatch=%.3f,fake_lossperbatch=%.3f,gen_loss_perbatch=%.3f' % (i+1,j+1,tot_batch,d_loss1,d_loss2,g_loss))\n",
        "          #print('>real_loss_perbatch=%.3f,fake_loss_perbatch=%.3f,gen_loss_perbatch=%.3f' % (i+1,j+1,tot_batch,d_loss1,d_loss2,g_loss))     if (i+1) % 10 == 0:\n",
        "        if ((i+1)%1)==0:\n",
        "            summarize_performance(i, generator, discriminator,dataset, latent_dim)\n",
        "          \n",
        "# size of the latent space\n",
        "latent_dim = 100\n",
        "# create the discriminator\n",
        "discriminator = define_discriminator()\n",
        "# create the generator\n",
        "generator = define_generator(latent_dim)\n",
        "# create the gan\n",
        "gan_model = define_gan(generator, discriminator)\n",
        "#load image data\n",
        "dataset=load_real_samples()\n",
        "# train model\n",
        "train(generator, discriminator, gan_model,dataset,latent_dim)\n",
        "\n",
        "\n",
        "# serialize model to JSON\n",
        "model_json = gan_model.to_json()\n",
        "with open(\"model.json\", \"w\") as json_file:\n",
        "    json_file.write(model_json)\n",
        "# serialize weights to HDF5\n",
        "gan_model.save_weights(\"gan_model.h5\")\n",
        "print(\"Saved model to disk\")\n",
        "model_json1 = generator.to_json()\n",
        "with open(\"model.json1\", \"w\") as json_file:\n",
        "    json_file.write(model_json1)\n",
        "# serialize weights to HDF5\n",
        "generator.save_weights(\"generator.h5\")\n",
        "print(\"Saved model to disk\")\n",
        "!mkdir -p saved_model\n",
        "generator.save('saved_model/my_model') \n",
        "\n",
        "\n"
      ],
      "execution_count": null,
      "outputs": []
    },
    {
      "cell_type": "code",
      "metadata": {
        "id": "V2oUDw9pBmS7",
        "colab_type": "code",
        "colab": {}
      },
      "source": [
        "# later...\n",
        "\n",
        "# load json and create model\n",
        "json_file = open('gan_model.json', 'r')\n",
        "loaded_model_json = json_file.read()\n",
        "json_file.close()\n",
        "loaded_model = model_from_json(loaded_model_json)\n",
        "# load weights into new model\n",
        "loaded_model.load_weights(\"gan_model.h5\")\n",
        "print(\"Loaded model from disk\")\n",
        "\n",
        "# evaluate loaded model on test data\n",
        "#loaded_model.compile(loss='binary_crossentropy', optimizer='Adam', metrics=['accuracy'])\n",
        "#score = loaded_model.evaluate(X, Y, verbose=0)\n",
        "#print(\"%s: %.2f%%\" % (loaded_model.metrics_names[1], score[1]*100))"
      ],
      "execution_count": null,
      "outputs": []
    }
  ]
}